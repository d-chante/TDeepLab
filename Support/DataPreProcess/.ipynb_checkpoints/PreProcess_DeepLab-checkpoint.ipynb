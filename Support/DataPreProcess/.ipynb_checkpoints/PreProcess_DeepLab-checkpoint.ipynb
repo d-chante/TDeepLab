{
 "cells": [
  {
   "cell_type": "code",
   "execution_count": 1,
   "id": "def490ff",
   "metadata": {},
   "outputs": [
    {
     "name": "stdout",
     "output_type": "stream",
     "text": [
      "Data  DeepLab  Output  Support\tUNet\r\n"
     ]
    }
   ],
   "source": [
    "'''\n",
    "DATA PATHS\n",
    "'''\n",
    "TOP_DIR = '/tf/Notebooks/Iwashita'\n",
    "\n",
    "IR_PATH = TOP_DIR + '/Data/IR/'\n",
    "RGB_PATH = TOP_DIR + '/Data/RGB/'\n",
    "MASKS_PATH = TOP_DIR + '/Data/Masks/'\n",
    "ANNOTATIONS_PATH = TOP_DIR + '/Data/Annotations/'\n",
    "\n",
    "'''\n",
    "OUTPUTS PATH\n",
    "'''\n",
    "WEIGHTS_PATH = TOP_DIR + '/output/Weights/'\n",
    "METRICS_PATH = TOP_DIR + '/output/Metrics/'\n",
    "\n",
    "!cd $TOP_DIR && ls"
   ]
  },
  {
   "cell_type": "code",
   "execution_count": 2,
   "id": "b97a4bce",
   "metadata": {},
   "outputs": [
    {
     "name": "stdout",
     "output_type": "stream",
     "text": [
      "Done\n"
     ]
    }
   ],
   "source": [
    "import cv2\n",
    "from enum import Enum\n",
    "import numpy as np\n",
    "from numpy import asarray, save\n",
    "import os\n",
    "from PIL import Image\n",
    "import re\n",
    "from skimage.transform import resize\n",
    "from sklearn.model_selection import train_test_split\n",
    "from tqdm import tqdm\n",
    "import matplotlib.pyplot as plt \n",
    "from matplotlib.pyplot import axis, figure, imshow, show, subplot\n",
    "\n",
    "print(\"Done\")"
   ]
  },
  {
   "cell_type": "code",
   "execution_count": 3,
   "id": "0d1c7e24",
   "metadata": {},
   "outputs": [
    {
     "name": "stdout",
     "output_type": "stream",
     "text": [
      "Done\n"
     ]
    }
   ],
   "source": [
    "'''\n",
    "SUPPORTING FUNCTIONS\n",
    "'''\n",
    "\n",
    "'''\n",
    "POPULATE DATA SETS\n",
    "'''\n",
    "def populate_data_sets(X_list, y_list, rgb_dict, ir_dict, annotations_dict):\n",
    "    X_rgb = []\n",
    "    X_ir = []\n",
    "    y_data =[]\n",
    "\n",
    "    for i, fn in enumerate(X_list, start=0):        \n",
    "        X_rgb.append(rgb_dict[fn])\n",
    "        X_ir.append(ir_dict[fn])\n",
    "        y_data.append(annotations_dict[fn])\n",
    "\n",
    "    return np.array(X_rgb), np.array(X_ir), np.array(y_data)\n",
    "\n",
    "'''\n",
    "CALCULATE CLASS FREQUENCY\n",
    "'''\n",
    "def calculate_class_frequency_single(annotation_array):\n",
    "    num_classes = annotation_array.shape[2]\n",
    "    \n",
    "    pixel_count = np.zeros(num_classes)\n",
    "\n",
    "    # Iterate over each class and count pixels\n",
    "    for i in range(num_classes):\n",
    "        pixel_count[i] = np.sum(annotation_array[:, :, i] == 1)\n",
    "\n",
    "    # Compute class frequencies\n",
    "    class_frequency = pixel_count / np.sum(pixel_count)\n",
    "\n",
    "    # Print out the frequency for each class\n",
    "    #for cls, frequency in enumerate(class_frequency):\n",
    "    #    print(f\"Class {cls}: {frequency*100:.4f}%\")\n",
    "    # Print out the frequency for each class\n",
    "    for cls in classes:\n",
    "        print(f\"{cls.name}: {class_frequency[cls.value]*100:.4f}\")\n",
    "\n",
    "    return class_frequency\n",
    "\n",
    "def calculate_class_frequency_set(annotation_array):\n",
    "    num_classes = annotation_array.shape[3]\n",
    "    \n",
    "    pixel_count = np.zeros(num_classes)\n",
    "    \n",
    "    # Iterate over each class and count pixels\n",
    "    for i in range(num_classes):\n",
    "        pixel_count[i] = np.sum(annotation_array[:, :, :, i] == 1)\n",
    "        \n",
    "    # Compute class frequencies\n",
    "    class_frequency = pixel_count / np.sum(pixel_count)\n",
    "    \n",
    "    # Print out the frequency for each class\n",
    "    for cls in classes:\n",
    "        print(f\"{cls.name}: {class_frequency[cls.value]*100:.4f}\")\n",
    "        \n",
    "    return class_frequency\n",
    "\n",
    "'''\n",
    "ONE-HOT ANNOTATION CHECK\n",
    "'''\n",
    "def display_one_hot_annotation(annotations_onehot):\n",
    "    label = np.argmax(annotations_onehot, axis=-1)\n",
    "    cmap = plt.get_cmap('tab10', 7)\n",
    "\n",
    "    plt.imshow(label, cmap=cmap)\n",
    "    plt.colorbar(ticks=range(num_classes), format=plt.FuncFormatter(lambda val, loc: {\n",
    "        0: \"unlabeled\",\n",
    "        1: \"sand\",\n",
    "        2: \"soil\",\n",
    "        3: \"ballast\",\n",
    "        4: \"rock\",\n",
    "        5: \"bedrock\",\n",
    "        6: \"rocky terrain\"\n",
    "    }[val]))\n",
    "    plt.show()\n",
    "    \n",
    "print(\"Done\")"
   ]
  },
  {
   "cell_type": "code",
   "execution_count": 14,
   "id": "7a0f1a2e",
   "metadata": {},
   "outputs": [
    {
     "name": "stdout",
     "output_type": "stream",
     "text": [
      "Processing RGB images...\n"
     ]
    },
    {
     "name": "stderr",
     "output_type": "stream",
     "text": [
      "100%|██████████| 474/474 [00:04<00:00, 104.02it/s]\n"
     ]
    },
    {
     "name": "stdout",
     "output_type": "stream",
     "text": [
      "Processing IR images...\n"
     ]
    },
    {
     "name": "stderr",
     "output_type": "stream",
     "text": [
      "100%|██████████| 474/474 [00:01<00:00, 263.23it/s]\n"
     ]
    }
   ],
   "source": [
    "'''\n",
    "IMAGE PROPERTIES - Original image dimensions are 800x600\n",
    "'''\n",
    "IMG_HEIGHT = 572\n",
    "IMG_WIDTH = 572\n",
    "\n",
    "RGB_CHANNELS = 3\n",
    "IR_CHANNELS = 1\n",
    "\n",
    "'''\n",
    "IMAGE LISTS\n",
    "'''\n",
    "img_list = [file for file in os.listdir(RGB_PATH) if file.lower().endswith('0000.png')]\n",
    "\n",
    "rgb_imgs = {}\n",
    "ir_imgs = {}\n",
    "\n",
    "'''\n",
    "LOAD MASKS\n",
    "'''\n",
    "#rgb_mask\n",
    "rgb_mask = np.array(Image.open(os.path.join(MASKS_PATH, 'rgb_mask.ppm')))\n",
    "\n",
    "# ir_mask\n",
    "ir_mask = cv2.imread(os.path.join(MASKS_PATH, 'ir_mask.png'), cv2.IMREAD_GRAYSCALE)\n",
    "ir_mask = ir_mask.astype(np.uint8)\n",
    "\n",
    "'''\n",
    "PRE-PROCESS\n",
    "'''\n",
    "print(\"Processing RGB images...\")\n",
    "\n",
    "for n, filename in tqdm(enumerate(img_list, start=0), total=len(img_list)):\n",
    "    \n",
    "    # Open image from file\n",
    "    rgb_img = Image.open(os.path.join(RGB_PATH, filename))\n",
    "    \n",
    "    # Normalize RGB image in an 600x800x3 numpy array\n",
    "    rgb_array = np.array(rgb_img)\n",
    "    \n",
    "    # Apply mask\n",
    "    rgb_array = cv2.bitwise_and(rgb_array, rgb_array, mask=ir_mask)\n",
    "    \n",
    "    # Resize\n",
    "    rgb_array = cv2.resize(\n",
    "        rgb_array, (IMG_WIDTH, IMG_HEIGHT), interpolation=cv2.INTER_LINEAR)\n",
    "    \n",
    "    # Save to dictionary\n",
    "    rgb_imgs[filename] = rgb_array\n",
    "    \n",
    "print(\"Processing IR images...\")\n",
    "\n",
    "for n, filename in tqdm(enumerate(img_list, start=0), total=len(img_list)):\n",
    "    \n",
    "    # Open image from file\n",
    "    ir_array = np.array(Image.open(os.path.join(IR_PATH, filename)))\n",
    "    \n",
    "    # Resize from (600, 800) to (600, 800, 3)\n",
    "    ir_array = cv2.resize(ir_array, (rgb_mask.shape[1], rgb_mask.shape[0])) \n",
    "    \n",
    "    # Convert from grayscale to rgb\n",
    "    ir_array = cv2.cvtColor(ir_array, cv2.COLOR_GRAY2BGR)\n",
    "    \n",
    "    # Apply mask\n",
    "    ir_array = cv2.bitwise_and(ir_array, rgb_mask)\n",
    "    \n",
    "    # Resize\n",
    "    ir_array = cv2.resize(\n",
    "        ir_array, (IMG_WIDTH, IMG_HEIGHT), interpolation=cv2.INTER_LINEAR)\n",
    "    \n",
    "    # Save to dictionary\n",
    "    ir_imgs[filename] = ir_array"
   ]
  },
  {
   "cell_type": "code",
   "execution_count": 8,
   "id": "804a7d0f",
   "metadata": {},
   "outputs": [
    {
     "name": "stdout",
     "output_type": "stream",
     "text": [
      "Loading annotation files...\n"
     ]
    },
    {
     "name": "stderr",
     "output_type": "stream",
     "text": [
      "100%|██████████| 474/474 [00:06<00:00, 74.99it/s]\n"
     ]
    },
    {
     "name": "stdout",
     "output_type": "stream",
     "text": [
      "One-hot encoding annotation files...\n"
     ]
    },
    {
     "name": "stderr",
     "output_type": "stream",
     "text": [
      "100%|██████████| 474/474 [00:01<00:00, 345.11it/s]\n"
     ]
    }
   ],
   "source": [
    "'''\n",
    "CLASSES\n",
    "'''\n",
    "classes = Enum('Classes', [\n",
    "    '__UNLABELED__',\n",
    "    'SAND',\n",
    "    'SOIL',\n",
    "    'BALLAST',\n",
    "    'ROCK',\n",
    "    'BEDROCK',\n",
    "    'ROCKY_TERRAIN'\n",
    "    ], start=0)\n",
    "\n",
    "num_classes = max(classes, key=lambda x: x.value).value + 1\n",
    "\n",
    "'''\n",
    "LOAD/DECODE ANNOTATION FILES\n",
    "'''\n",
    "annotations = {}\n",
    "\n",
    "print(\"Loading annotation files...\")\n",
    "\n",
    "for n, filename in tqdm(enumerate(img_list, start=0), total=len(img_list)):\n",
    "\n",
    "    img = Image.open(os.path.join(ANNOTATIONS_PATH, filename)).resize((IMG_WIDTH, IMG_HEIGHT))\n",
    "\n",
    "    encoded = np.array(img)\n",
    "\n",
    "    label = np.bitwise_or(np.bitwise_or(\n",
    "        encoded[:, :, 0].astype(np.uint32),\n",
    "        encoded[:, :, 1].astype(np.uint32) << 8),\n",
    "        encoded[:, :, 2].astype(np.uint32) << 16)\n",
    "\n",
    "    annotations[filename] = label\n",
    "\n",
    "'''\n",
    "ONE-HOT ENCODE\n",
    "'''\n",
    "annotations_onehot = {}\n",
    "class_freq = {i: 0 for i in range(num_classes)}\n",
    "\n",
    "print(\"One-hot encoding annotation files...\")\n",
    "\n",
    "for n, filename in tqdm(enumerate(img_list, start=0), total=len(img_list)):\n",
    "\n",
    "    onehot_annotation = np.zeros((IMG_HEIGHT, IMG_WIDTH, num_classes), dtype=np.uint8)\n",
    "    \n",
    "    for c in range(num_classes):\n",
    "        mask = (annotations[filename] == c)\n",
    "        onehot_annotation[..., c] = mask\n",
    "        class_freq[c] += np.sum(mask)\n",
    "    \n",
    "    annotations_onehot[filename] = onehot_annotation"
   ]
  },
  {
   "cell_type": "code",
   "execution_count": 9,
   "id": "6d8510c8",
   "metadata": {},
   "outputs": [
    {
     "name": "stdout",
     "output_type": "stream",
     "text": [
      "\n",
      "\n",
      "SAND: 6.32%\n",
      "SOIL: 60.07%\n",
      "BALLAST: 16.89%\n",
      "ROCK: 3.35%\n",
      "BEDROCK: 2.75%\n",
      "ROCKY_TERRAIN: 2.59%\n"
     ]
    }
   ],
   "source": [
    "total_pixels = sum(class_freq.values())\n",
    "\n",
    "class_percentages = {cls: (freq / total_pixels) * 100 for cls, freq in class_freq.items()}\n",
    "\n",
    "for cls, percentage in class_percentages.items():\n",
    "    if cls == 0:\n",
    "      print(\"\\n\")\n",
    "    if cls != 0:\n",
    "      print(f\"{classes(cls).name}: {percentage:.2f}%\")"
   ]
  },
  {
   "cell_type": "code",
   "execution_count": 10,
   "id": "5a398204",
   "metadata": {},
   "outputs": [
    {
     "name": "stdout",
     "output_type": "stream",
     "text": [
      "474\n",
      "7\n",
      "SAND: 1.2898\n",
      "SOIL: 84.9936\n",
      "BALLAST: 4.6400\n",
      "ROCK: 5.1996\n",
      "BEDROCK: 0.0403\n",
      "ROCKY_TERRAIN: 1.0175\n",
      "\n",
      "SAND: 3.0555\n",
      "SOIL: 87.2445\n",
      "BALLAST: 5.2130\n",
      "ROCK: 1.6508\n",
      "BEDROCK: 1.0514\n",
      "ROCKY_TERRAIN: 1.7849\n",
      "\n",
      "SAND: 6.3161\n",
      "SOIL: 60.0683\n",
      "BALLAST: 16.8912\n",
      "ROCK: 3.3510\n",
      "BEDROCK: 2.7466\n",
      "ROCKY_TERRAIN: 2.5946\n"
     ]
    },
    {
     "data": {
      "text/plain": [
       "array([0.08032225, 0.06316112, 0.60068293, 0.16891169, 0.03351047,\n",
       "       0.02746588, 0.02594565])"
      ]
     },
     "execution_count": 10,
     "metadata": {},
     "output_type": "execute_result"
    }
   ],
   "source": [
    "arr = annotations_onehot['03__2017-11-17-105825-0000.png']\n",
    "print(len(annotations_onehot))\n",
    "test = np.array(list(annotations_onehot.values()))\n",
    "print(test.shape[3])\n",
    "\n",
    "calculate_class_frequency_single(test[0])\n",
    "print(\"\")\n",
    "calculate_class_frequency_single(test[1])\n",
    "print(\"\")\n",
    "calculate_class_frequency_set(test)"
   ]
  },
  {
   "cell_type": "code",
   "execution_count": 11,
   "id": "bae553cc",
   "metadata": {},
   "outputs": [
    {
     "data": {
      "image/png": "[encoded data removed]",
      "text/plain": [
       "<Figure size 640x480 with 2 Axes>"
      ]
     },
     "metadata": {},
     "output_type": "display_data"
    }
   ],
   "source": [
    "display_one_hot_annotation(onehot_annotation)"
   ]
  },
  {
   "cell_type": "code",
   "execution_count": 12,
   "id": "d97ab5c4",
   "metadata": {},
   "outputs": [
    {
     "name": "stdout",
     "output_type": "stream",
     "text": [
      "Populating experiment 1 training data sets...\n",
      "Populating experiment 1 validation data sets...\n",
      "Populating experiment 1 test data sets...\n"
     ]
    }
   ],
   "source": [
    "'''\n",
    "FILTER EXPERIMENT 1 DATA\n",
    "'''\n",
    "exp1_pattern = r'^\\d{2}__2017-11-17-16(4[0-9]|[4-5]\\d)[0-9]{2}-0000.png$'\n",
    "exp1_img_list = [file for file in img_list if re.match(exp1_pattern, file)]\n",
    "\n",
    "'''\n",
    "SPLIT DATA\n",
    "'''\n",
    "X_train, X_temp, y_train, y_temp = train_test_split(\n",
    "    exp1_img_list, \n",
    "    exp1_img_list, \n",
    "    test_size=0.50, \n",
    "    train_size=0.50, \n",
    "    random_state=42, \n",
    "    shuffle=True)\n",
    "\n",
    "X_val, X_test, y_val, y_test = train_test_split(\n",
    "    X_temp, \n",
    "    y_temp, \n",
    "    test_size=0.50, \n",
    "    train_size=0.50, \n",
    "    random_state=42, \n",
    "    shuffle=False)\n",
    "\n",
    "print(\"Populating experiment 1 training data sets...\")\n",
    "exp1_rgb_X_train, exp1_ir_X_train, exp1_y_train = populate_data_sets(\n",
    "    X_train, y_train, rgb_imgs, ir_imgs, annotations_onehot)\n",
    "\n",
    "print(\"Populating experiment 1 validation data sets...\")  \n",
    "exp1_rgb_X_val, exp1_ir_X_val, exp1_y_val = populate_data_sets(\n",
    "    X_val, y_val, rgb_imgs, ir_imgs, annotations_onehot)\n",
    "\n",
    "print(\"Populating experiment 1 test data sets...\")  \n",
    "exp1_rgb_X_test, exp1_ir_X_test, exp1_y_test = populate_data_sets(\n",
    "    X_test, y_test, rgb_imgs, ir_imgs, annotations_onehot)"
   ]
  },
  {
   "cell_type": "code",
   "execution_count": 13,
   "id": "ecf7457c",
   "metadata": {},
   "outputs": [
    {
     "name": "stdout",
     "output_type": "stream",
     "text": [
      "(572, 572, 7)\n",
      "SAND: 6.1098\n",
      "SOIL: 61.5873\n",
      "BALLAST: 13.3698\n",
      "ROCK: 3.6139\n",
      "BEDROCK: 1.9038\n",
      "ROCKY_TERRAIN: 3.8923\n"
     ]
    },
    {
     "data": {
      "text/plain": [
       "array([0.09523183, 0.06109763, 0.61587301, 0.13369786, 0.03613871,\n",
       "       0.01903823, 0.03892273])"
      ]
     },
     "execution_count": 13,
     "metadata": {},
     "output_type": "execute_result"
    }
   ],
   "source": [
    "print(exp1_y_train[0].shape)\n",
    "calculate_class_frequency_set(exp1_y_train)"
   ]
  },
  {
   "cell_type": "code",
   "execution_count": 14,
   "id": "584aca50",
   "metadata": {},
   "outputs": [
    {
     "name": "stdout",
     "output_type": "stream",
     "text": [
      "Done\n"
     ]
    }
   ],
   "source": [
    "EXP1_DIR = '/tf/Notebooks/Iwashita/Data/Preprocessed/Experiment1'\n",
    "\n",
    "'''\n",
    "SAVE TRAINING DATA\n",
    "'''\n",
    "save(EXP1_DIR + '/Train/exp1_rgb_X_train_dl.npy', exp1_rgb_X_train)\n",
    "save(EXP1_DIR + '/Train/exp1_ir_X_train_dl.npy', exp1_ir_X_train)\n",
    "save(EXP1_DIR + '/Train/exp1_y_train_dl.npy', exp1_y_train)\n",
    "\n",
    "'''\n",
    "SAVE VALIDATION DATA\n",
    "'''\n",
    "save(EXP1_DIR + '/Validate/exp1_rgb_X_val_dl.npy', exp1_rgb_X_val)\n",
    "save(EXP1_DIR + '/Validate/exp1_ir_X_val_dl.npy', exp1_ir_X_val)\n",
    "save(EXP1_DIR + '/Validate/exp1_y_val_dl.npy', exp1_y_val)\n",
    "\n",
    "'''\n",
    "SAVE TEST DATA\n",
    "'''\n",
    "save(EXP1_DIR + '/Test/exp1_rgb_X_test_dl.npy', exp1_rgb_X_test)\n",
    "save(EXP1_DIR + '/Test/exp1_ir_X_test_dl.npy', exp1_ir_X_test)\n",
    "save(EXP1_DIR + '/Test/exp1_y_test_dl.npy', exp1_y_test)\n",
    "\n",
    "print(\"Done\")"
   ]
  },
  {
   "cell_type": "code",
   "execution_count": 15,
   "id": "acbaa78e",
   "metadata": {},
   "outputs": [
    {
     "name": "stdout",
     "output_type": "stream",
     "text": [
      "Populating experiment 2 training data sets...\n",
      "Populating experiment 2 validation data sets...\n",
      "Populating experiment 2 test data sets...\n"
     ]
    }
   ],
   "source": [
    "'''\n",
    "FILTER EXPERIMENT 2 DATA\n",
    "'''\n",
    "exp2_img_list = img_list\n",
    "\n",
    "'''\n",
    "SPLIT DATA\n",
    "'''\n",
    "X_train, X_temp, y_train, y_temp = train_test_split(\n",
    "    exp2_img_list, \n",
    "    exp2_img_list, \n",
    "    test_size=0.50, \n",
    "    train_size=0.50, \n",
    "    random_state=42, \n",
    "    shuffle=True)\n",
    "\n",
    "X_val, X_test, y_val, y_test = train_test_split(\n",
    "    X_temp, \n",
    "    y_temp, \n",
    "    test_size=0.50, \n",
    "    train_size=0.50, \n",
    "    random_state=42, \n",
    "    shuffle=False)\n",
    "\n",
    "print(\"Populating experiment 2 training data sets...\")\n",
    "exp2_rgb_X_train, exp2_ir_X_train, exp2_y_train = populate_data_sets(\n",
    "    X_train, y_train, rgb_imgs, ir_imgs, annotations_onehot)\n",
    "\n",
    "print(\"Populating experiment 2 validation data sets...\")  \n",
    "exp2_rgb_X_val, exp2_ir_X_val, exp2_y_val = populate_data_sets(\n",
    "    X_val, y_val, rgb_imgs, ir_imgs, annotations_onehot)\n",
    "\n",
    "print(\"Populating experiment 2 test data sets...\")  \n",
    "exp2_rgb_X_test, exp2_ir_X_test, exp2_y_test = populate_data_sets(\n",
    "    X_test, y_test, rgb_imgs, ir_imgs, annotations_onehot)"
   ]
  },
  {
   "cell_type": "code",
   "execution_count": 16,
   "id": "70042a5e",
   "metadata": {},
   "outputs": [
    {
     "name": "stdout",
     "output_type": "stream",
     "text": [
      "Done\n"
     ]
    }
   ],
   "source": [
    "EXP2_DIR = '/tf/Notebooks/Iwashita/Data/Preprocessed/Experiment2'\n",
    "\n",
    "'''\n",
    "SAVE TRAINING DATA\n",
    "'''\n",
    "save(EXP2_DIR + '/Train/exp2_rgb_X_train_dl.npy', exp2_rgb_X_train)\n",
    "save(EXP2_DIR + '/Train/exp2_ir_X_train_dl.npy', exp2_ir_X_train)\n",
    "save(EXP2_DIR + '/Train/exp2_y_train_dl.npy', exp2_y_train)\n",
    "\n",
    "'''\n",
    "SAVE VALIDATION DATA\n",
    "'''\n",
    "save(EXP2_DIR + '/Validate/exp2_rgb_X_val_dl.npy', exp2_rgb_X_val)\n",
    "save(EXP2_DIR + '/Validate/exp2_ir_X_val_dl.npy', exp2_ir_X_val)\n",
    "save(EXP2_DIR + '/Validate/exp2_y_val_dl.npy', exp2_y_val)\n",
    "\n",
    "'''\n",
    "SAVE TEST DATA\n",
    "'''\n",
    "save(EXP2_DIR + '/Test/exp2_rgb_X_test_dl.npy', exp2_rgb_X_test)\n",
    "save(EXP2_DIR + '/Test/exp2_ir_X_test_dl.npy', exp2_ir_X_test)\n",
    "save(EXP2_DIR + '/Test/exp2_y_test_dl.npy', exp2_y_test)\n",
    "\n",
    "print(\"Done\")"
   ]
  },
  {
   "cell_type": "code",
   "execution_count": 17,
   "id": "54241b7e",
   "metadata": {},
   "outputs": [
    {
     "name": "stdout",
     "output_type": "stream",
     "text": [
      "Populating experiment 3 training data sets...\n",
      "Populating experiment 3 validation data sets...\n",
      "Populating experiment 3 test data sets...\n"
     ]
    }
   ],
   "source": [
    "'''\n",
    "FILTER EXPERIMENT 3 DATA\n",
    "'''\n",
    "exp3_pattern = r'^\\d{2}__2017-11-17-(?:14(?:1[0-9]|[2-9][0-9])|15\\d{2}|16(?:[0-4][0-9]|5[0-9]))[0-5][0-9]-0000.png$'\n",
    "exp3_img_list = [file for file in img_list if re.match(exp3_pattern, file)]\n",
    "\n",
    "exp3_test_a_pattern = r'^\\d{2}__2017-11-17-(?:1(?:[0]\\d{2}|1(?:[0-9][0-9]|2(?:[0-9][0-9]|3[0-5][0-9]))))[0-5][0-9]-0000.png$'\n",
    "exp3_test_a_list = [file for file in img_list if re.match(exp3_test_a_pattern, file)]\n",
    "\n",
    "exp3_test_b_pattern = r'^\\d{2}__2017-11-17-(?:1(?:[4-6]\\d{2}|7(?:[0-2][0-9]|3[0-9])))[0-5][0-9]-0000.png$'\n",
    "exp3_test_b_list = [file for file in img_list if re.match(exp3_test_b_pattern, file)]\n",
    "\n",
    "'''\n",
    "SPLIT DATA\n",
    "'''\n",
    "X_train, X_val, y_train, y_val = train_test_split(\n",
    "    exp3_img_list, \n",
    "    exp3_img_list, \n",
    "    test_size=0.70, \n",
    "    train_size=0.30, \n",
    "    random_state=42, \n",
    "    shuffle=True)\n",
    "\n",
    "print(\"Populating experiment 3 training data sets...\")\n",
    "exp3_rgb_X_train, exp3_ir_X_train, exp3_y_train = populate_data_sets(X_train, y_train, rgb_imgs, ir_imgs, annotations_onehot)\n",
    "\n",
    "print(\"Populating experiment 3 validation data sets...\")  \n",
    "exp3_rgb_X_val, exp3_ir_X_val, exp3_y_val = populate_data_sets(X_val, y_val, rgb_imgs, ir_imgs, annotations_onehot)\n",
    "\n",
    "print(\"Populating experiment 3 test data sets...\")  \n",
    "exp3_rgb_X_test_a, exp3_ir_X_test_a, exp3_y_test_a = populate_data_sets(exp3_test_a_list, exp3_test_a_list, rgb_imgs, ir_imgs, annotations_onehot)\n",
    "exp3_rgb_X_test_b, exp3_ir_X_test_b, exp3_y_test_b = populate_data_sets(exp3_test_b_list, exp3_test_b_list, rgb_imgs, ir_imgs, annotations_onehot)"
   ]
  },
  {
   "cell_type": "code",
   "execution_count": 18,
   "id": "806f805e",
   "metadata": {},
   "outputs": [
    {
     "name": "stdout",
     "output_type": "stream",
     "text": [
      "Done\n"
     ]
    }
   ],
   "source": [
    "EXP3_DIR = '/tf/Notebooks/Iwashita/Data/Preprocessed/Experiment3'\n",
    "\n",
    "'''\n",
    "SAVE TRAINING DATA\n",
    "'''\n",
    "save(EXP3_DIR + '/Train/exp3_rgb_X_train_dl.npy', exp3_rgb_X_train)\n",
    "save(EXP3_DIR + '/Train/exp3_ir_X_train_dl.npy', exp3_ir_X_train)\n",
    "save(EXP3_DIR + '/Train/exp3_y_train_dl.npy', exp3_y_train)\n",
    "\n",
    "'''\n",
    "SAVE VALIDATION DATA\n",
    "'''\n",
    "save(EXP3_DIR + '/Validate/exp3_rgb_X_val_dl.npy', exp3_rgb_X_val)\n",
    "save(EXP3_DIR + '/Validate/exp3_ir_X_val_dl.npy', exp3_ir_X_val)\n",
    "save(EXP3_DIR + '/Validate/exp3_y_val_dl.npy', exp3_y_val)\n",
    "\n",
    "'''\n",
    "SAVE TEST DATA\n",
    "'''\n",
    "save(EXP3_DIR + '/Test/exp3_rgb_X_test_a_dl.npy', exp3_rgb_X_test_a)\n",
    "save(EXP3_DIR + '/Test/exp3_ir_X_test_a_dl.npy', exp3_ir_X_test_a)\n",
    "save(EXP3_DIR + '/Test/exp3_y_test_a_dl.npy', exp3_y_test_a)\n",
    "\n",
    "save(EXP3_DIR + '/Test/exp3_rgb_X_test_b_dl.npy', exp3_rgb_X_test_b)\n",
    "save(EXP3_DIR + '/Test/exp3_ir_X_test_b_dl.npy', exp3_ir_X_test_b)\n",
    "save(EXP3_DIR + '/Test/exp3_y_test_b_dl.npy', exp3_y_test_b)\n",
    "\n",
    "print(\"Done\")"
   ]
  },
  {
   "cell_type": "code",
   "execution_count": null,
   "id": "fa260be1",
   "metadata": {},
   "outputs": [],
   "source": []
  }
 ],
 "metadata": {
  "kernelspec": {
   "display_name": "Python 3 (ipykernel)",
   "language": "python",
   "name": "python3"
  },
  "language_info": {
   "codemirror_mode": {
    "name": "ipython",
    "version": 3
   },
   "file_extension": ".py",
   "mimetype": "text/x-python",
   "name": "python",
   "nbconvert_exporter": "python",
   "pygments_lexer": "ipython3",
   "version": "3.8.10"
  }
 },
 "nbformat": 4,
 "nbformat_minor": 5
}
